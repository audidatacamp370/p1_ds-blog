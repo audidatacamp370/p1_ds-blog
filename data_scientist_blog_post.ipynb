{
 "cells": [
  {
   "cell_type": "markdown",
   "id": "459f3d0d",
   "metadata": {},
   "source": [
    "# Udacity - Data Scientist Nanodegree Program\n",
    "## Project - Writing a Data Scientist Blog Post"
   ]
  },
  {
   "cell_type": "markdown",
   "id": "b3ab3d36",
   "metadata": {},
   "source": [
    "- [Business Understanding](#bu)\n",
    "- [Data Understanding](#du)\n",
    "- [Data Preparation](#dp)\n",
    "- [Data Modeling](#dm)\n",
    "- [Result Evaluation](#re)\n",
    "- [Deployment](#dep)"
   ]
  },
  {
   "cell_type": "code",
   "execution_count": 1,
   "id": "ee77d8de",
   "metadata": {},
   "outputs": [],
   "source": [
    "import pandas as pd\n",
    "import numpy as np\n",
    "import matplotlib.pyplot as plt\n",
    "%matplotlib inline\n",
    "\n",
    "import seaborn as sb\n",
    "\n",
    "import warnings\n",
    "warnings.filterwarnings('ignore')"
   ]
  },
  {
   "cell_type": "markdown",
   "id": "25d7577e",
   "metadata": {},
   "source": [
    "<a id='bu'></a>\n",
    "### Business Understanding"
   ]
  },
  {
   "cell_type": "markdown",
   "id": "b5d8c506",
   "metadata": {},
   "source": [
    "The main focus of this Project is on the effects of remote working conditions. I used the Stack Overflow data from 2017. \n",
    "\n",
    "- In which Countries is working remotely more common?\n",
    "- Which company size supports remote work the most/ at least?\n",
    "- Are programmers who work remotly more satisfied with their jobs?\n",
    "- Do programmers who work remotly earn less than programmers who are mainly working in their office?"
   ]
  },
  {
   "cell_type": "markdown",
   "id": "0d87a58e",
   "metadata": {},
   "source": [
    "<a id='du'></a>\n",
    "### Data Understanding"
   ]
  },
  {
   "cell_type": "markdown",
   "id": "ecbdb2e5",
   "metadata": {},
   "source": [
    "#### Read & Explore Survey Data"
   ]
  },
  {
   "cell_type": "code",
   "execution_count": 2,
   "id": "2d97235f",
   "metadata": {
    "scrolled": true
   },
   "outputs": [],
   "source": [
    "# Read data from csv-file\n",
    "df=pd.read_csv('data/survey_results_public_2017.csv')"
   ]
  },
  {
   "cell_type": "code",
   "execution_count": 3,
   "id": "70eddaa0",
   "metadata": {},
   "outputs": [
    {
     "name": "stdout",
     "output_type": "stream",
     "text": [
      "No. of rows: \t 51392 \n",
      "No. of columns:\t 154 \n"
     ]
    }
   ],
   "source": [
    "# Checking the shape\n",
    "print(f'No. of rows: \\t {df.shape[0]} ')\n",
    "print(f'No. of columns:\\t {df.shape[1]} ')"
   ]
  },
  {
   "cell_type": "code",
   "execution_count": 4,
   "id": "6d40aca6",
   "metadata": {
    "scrolled": true
   },
   "outputs": [
    {
     "data": {
      "text/html": [
       "<div>\n",
       "<style scoped>\n",
       "    .dataframe tbody tr th:only-of-type {\n",
       "        vertical-align: middle;\n",
       "    }\n",
       "\n",
       "    .dataframe tbody tr th {\n",
       "        vertical-align: top;\n",
       "    }\n",
       "\n",
       "    .dataframe thead th {\n",
       "        text-align: right;\n",
       "    }\n",
       "</style>\n",
       "<table border=\"1\" class=\"dataframe\">\n",
       "  <thead>\n",
       "    <tr style=\"text-align: right;\">\n",
       "      <th></th>\n",
       "      <th>Respondent</th>\n",
       "      <th>Professional</th>\n",
       "      <th>ProgramHobby</th>\n",
       "      <th>Country</th>\n",
       "      <th>University</th>\n",
       "      <th>EmploymentStatus</th>\n",
       "      <th>FormalEducation</th>\n",
       "      <th>MajorUndergrad</th>\n",
       "      <th>HomeRemote</th>\n",
       "      <th>CompanySize</th>\n",
       "      <th>...</th>\n",
       "      <th>StackOverflowMakeMoney</th>\n",
       "      <th>Gender</th>\n",
       "      <th>HighestEducationParents</th>\n",
       "      <th>Race</th>\n",
       "      <th>SurveyLong</th>\n",
       "      <th>QuestionsInteresting</th>\n",
       "      <th>QuestionsConfusing</th>\n",
       "      <th>InterestedAnswers</th>\n",
       "      <th>Salary</th>\n",
       "      <th>ExpectedSalary</th>\n",
       "    </tr>\n",
       "  </thead>\n",
       "  <tbody>\n",
       "    <tr>\n",
       "      <th>0</th>\n",
       "      <td>1</td>\n",
       "      <td>Student</td>\n",
       "      <td>Yes, both</td>\n",
       "      <td>United States</td>\n",
       "      <td>No</td>\n",
       "      <td>Not employed, and not looking for work</td>\n",
       "      <td>Secondary school</td>\n",
       "      <td>NaN</td>\n",
       "      <td>NaN</td>\n",
       "      <td>NaN</td>\n",
       "      <td>...</td>\n",
       "      <td>Strongly disagree</td>\n",
       "      <td>Male</td>\n",
       "      <td>High school</td>\n",
       "      <td>White or of European descent</td>\n",
       "      <td>Strongly disagree</td>\n",
       "      <td>Strongly agree</td>\n",
       "      <td>Disagree</td>\n",
       "      <td>Strongly agree</td>\n",
       "      <td>NaN</td>\n",
       "      <td>NaN</td>\n",
       "    </tr>\n",
       "    <tr>\n",
       "      <th>1</th>\n",
       "      <td>2</td>\n",
       "      <td>Student</td>\n",
       "      <td>Yes, both</td>\n",
       "      <td>United Kingdom</td>\n",
       "      <td>Yes, full-time</td>\n",
       "      <td>Employed part-time</td>\n",
       "      <td>Some college/university study without earning ...</td>\n",
       "      <td>Computer science or software engineering</td>\n",
       "      <td>More than half, but not all, the time</td>\n",
       "      <td>20 to 99 employees</td>\n",
       "      <td>...</td>\n",
       "      <td>Strongly disagree</td>\n",
       "      <td>Male</td>\n",
       "      <td>A master's degree</td>\n",
       "      <td>White or of European descent</td>\n",
       "      <td>Somewhat agree</td>\n",
       "      <td>Somewhat agree</td>\n",
       "      <td>Disagree</td>\n",
       "      <td>Strongly agree</td>\n",
       "      <td>NaN</td>\n",
       "      <td>37500.0</td>\n",
       "    </tr>\n",
       "    <tr>\n",
       "      <th>2</th>\n",
       "      <td>3</td>\n",
       "      <td>Professional developer</td>\n",
       "      <td>Yes, both</td>\n",
       "      <td>United Kingdom</td>\n",
       "      <td>No</td>\n",
       "      <td>Employed full-time</td>\n",
       "      <td>Bachelor's degree</td>\n",
       "      <td>Computer science or software engineering</td>\n",
       "      <td>Less than half the time, but at least one day ...</td>\n",
       "      <td>10,000 or more employees</td>\n",
       "      <td>...</td>\n",
       "      <td>Disagree</td>\n",
       "      <td>Male</td>\n",
       "      <td>A professional degree</td>\n",
       "      <td>White or of European descent</td>\n",
       "      <td>Somewhat agree</td>\n",
       "      <td>Agree</td>\n",
       "      <td>Disagree</td>\n",
       "      <td>Agree</td>\n",
       "      <td>113750.0</td>\n",
       "      <td>NaN</td>\n",
       "    </tr>\n",
       "    <tr>\n",
       "      <th>3</th>\n",
       "      <td>4</td>\n",
       "      <td>Professional non-developer who sometimes write...</td>\n",
       "      <td>Yes, both</td>\n",
       "      <td>United States</td>\n",
       "      <td>No</td>\n",
       "      <td>Employed full-time</td>\n",
       "      <td>Doctoral degree</td>\n",
       "      <td>A non-computer-focused engineering discipline</td>\n",
       "      <td>Less than half the time, but at least one day ...</td>\n",
       "      <td>10,000 or more employees</td>\n",
       "      <td>...</td>\n",
       "      <td>Disagree</td>\n",
       "      <td>Male</td>\n",
       "      <td>A doctoral degree</td>\n",
       "      <td>White or of European descent</td>\n",
       "      <td>Agree</td>\n",
       "      <td>Agree</td>\n",
       "      <td>Somewhat agree</td>\n",
       "      <td>Strongly agree</td>\n",
       "      <td>NaN</td>\n",
       "      <td>NaN</td>\n",
       "    </tr>\n",
       "    <tr>\n",
       "      <th>4</th>\n",
       "      <td>5</td>\n",
       "      <td>Professional developer</td>\n",
       "      <td>Yes, I program as a hobby</td>\n",
       "      <td>Switzerland</td>\n",
       "      <td>No</td>\n",
       "      <td>Employed full-time</td>\n",
       "      <td>Master's degree</td>\n",
       "      <td>Computer science or software engineering</td>\n",
       "      <td>Never</td>\n",
       "      <td>10 to 19 employees</td>\n",
       "      <td>...</td>\n",
       "      <td>NaN</td>\n",
       "      <td>NaN</td>\n",
       "      <td>NaN</td>\n",
       "      <td>NaN</td>\n",
       "      <td>NaN</td>\n",
       "      <td>NaN</td>\n",
       "      <td>NaN</td>\n",
       "      <td>NaN</td>\n",
       "      <td>NaN</td>\n",
       "      <td>NaN</td>\n",
       "    </tr>\n",
       "  </tbody>\n",
       "</table>\n",
       "<p>5 rows × 154 columns</p>\n",
       "</div>"
      ],
      "text/plain": [
       "   Respondent                                       Professional  \\\n",
       "0           1                                            Student   \n",
       "1           2                                            Student   \n",
       "2           3                             Professional developer   \n",
       "3           4  Professional non-developer who sometimes write...   \n",
       "4           5                             Professional developer   \n",
       "\n",
       "                ProgramHobby         Country      University  \\\n",
       "0                  Yes, both   United States              No   \n",
       "1                  Yes, both  United Kingdom  Yes, full-time   \n",
       "2                  Yes, both  United Kingdom              No   \n",
       "3                  Yes, both   United States              No   \n",
       "4  Yes, I program as a hobby     Switzerland              No   \n",
       "\n",
       "                         EmploymentStatus  \\\n",
       "0  Not employed, and not looking for work   \n",
       "1                      Employed part-time   \n",
       "2                      Employed full-time   \n",
       "3                      Employed full-time   \n",
       "4                      Employed full-time   \n",
       "\n",
       "                                     FormalEducation  \\\n",
       "0                                   Secondary school   \n",
       "1  Some college/university study without earning ...   \n",
       "2                                  Bachelor's degree   \n",
       "3                                    Doctoral degree   \n",
       "4                                    Master's degree   \n",
       "\n",
       "                                  MajorUndergrad  \\\n",
       "0                                            NaN   \n",
       "1       Computer science or software engineering   \n",
       "2       Computer science or software engineering   \n",
       "3  A non-computer-focused engineering discipline   \n",
       "4       Computer science or software engineering   \n",
       "\n",
       "                                          HomeRemote  \\\n",
       "0                                                NaN   \n",
       "1              More than half, but not all, the time   \n",
       "2  Less than half the time, but at least one day ...   \n",
       "3  Less than half the time, but at least one day ...   \n",
       "4                                              Never   \n",
       "\n",
       "                CompanySize  ... StackOverflowMakeMoney Gender  \\\n",
       "0                       NaN  ...      Strongly disagree   Male   \n",
       "1        20 to 99 employees  ...      Strongly disagree   Male   \n",
       "2  10,000 or more employees  ...               Disagree   Male   \n",
       "3  10,000 or more employees  ...               Disagree   Male   \n",
       "4        10 to 19 employees  ...                    NaN    NaN   \n",
       "\n",
       "  HighestEducationParents                          Race         SurveyLong  \\\n",
       "0             High school  White or of European descent  Strongly disagree   \n",
       "1       A master's degree  White or of European descent     Somewhat agree   \n",
       "2   A professional degree  White or of European descent     Somewhat agree   \n",
       "3       A doctoral degree  White or of European descent              Agree   \n",
       "4                     NaN                           NaN                NaN   \n",
       "\n",
       "  QuestionsInteresting QuestionsConfusing InterestedAnswers    Salary  \\\n",
       "0       Strongly agree           Disagree    Strongly agree       NaN   \n",
       "1       Somewhat agree           Disagree    Strongly agree       NaN   \n",
       "2                Agree           Disagree             Agree  113750.0   \n",
       "3                Agree     Somewhat agree    Strongly agree       NaN   \n",
       "4                  NaN                NaN               NaN       NaN   \n",
       "\n",
       "   ExpectedSalary  \n",
       "0             NaN  \n",
       "1         37500.0  \n",
       "2             NaN  \n",
       "3             NaN  \n",
       "4             NaN  \n",
       "\n",
       "[5 rows x 154 columns]"
      ]
     },
     "execution_count": 4,
     "metadata": {},
     "output_type": "execute_result"
    }
   ],
   "source": [
    "#display df2017 structure\n",
    "df.head()"
   ]
  },
  {
   "cell_type": "markdown",
   "id": "25496b28",
   "metadata": {},
   "source": [
    "#### Read & Explore Survey Schema\n"
   ]
  },
  {
   "cell_type": "code",
   "execution_count": 5,
   "id": "a3b36949",
   "metadata": {
    "scrolled": true
   },
   "outputs": [
    {
     "data": {
      "text/html": [
       "<div>\n",
       "<style scoped>\n",
       "    .dataframe tbody tr th:only-of-type {\n",
       "        vertical-align: middle;\n",
       "    }\n",
       "\n",
       "    .dataframe tbody tr th {\n",
       "        vertical-align: top;\n",
       "    }\n",
       "\n",
       "    .dataframe thead th {\n",
       "        text-align: right;\n",
       "    }\n",
       "</style>\n",
       "<table border=\"1\" class=\"dataframe\">\n",
       "  <thead>\n",
       "    <tr style=\"text-align: right;\">\n",
       "      <th></th>\n",
       "      <th>Question</th>\n",
       "    </tr>\n",
       "    <tr>\n",
       "      <th>Column</th>\n",
       "      <th></th>\n",
       "    </tr>\n",
       "  </thead>\n",
       "  <tbody>\n",
       "    <tr>\n",
       "      <th>Respondent</th>\n",
       "      <td>Respondent ID number</td>\n",
       "    </tr>\n",
       "    <tr>\n",
       "      <th>Professional</th>\n",
       "      <td>Which of the following best describes you?</td>\n",
       "    </tr>\n",
       "    <tr>\n",
       "      <th>ProgramHobby</th>\n",
       "      <td>Do you program as a hobby or contribute to ope...</td>\n",
       "    </tr>\n",
       "    <tr>\n",
       "      <th>Country</th>\n",
       "      <td>In which country do you currently live?</td>\n",
       "    </tr>\n",
       "    <tr>\n",
       "      <th>University</th>\n",
       "      <td>Are you currently enrolled in a formal, degree...</td>\n",
       "    </tr>\n",
       "  </tbody>\n",
       "</table>\n",
       "</div>"
      ],
      "text/plain": [
       "                                                       Question\n",
       "Column                                                         \n",
       "Respondent                                 Respondent ID number\n",
       "Professional         Which of the following best describes you?\n",
       "ProgramHobby  Do you program as a hobby or contribute to ope...\n",
       "Country                 In which country do you currently live?\n",
       "University    Are you currently enrolled in a formal, degree..."
      ]
     },
     "execution_count": 5,
     "metadata": {},
     "output_type": "execute_result"
    }
   ],
   "source": [
    "# Read data from csv-file and display \n",
    "df_schema=pd.read_csv('data/survey_results_schema_2017.csv')\n",
    "df_schema.set_index(['Column'], inplace=True)\n",
    "df_schema.head()"
   ]
  },
  {
   "cell_type": "code",
   "execution_count": 6,
   "id": "57d09085",
   "metadata": {},
   "outputs": [
    {
     "data": {
      "text/plain": [
       "'How often do you work from home or remotely?'"
      ]
     },
     "execution_count": 6,
     "metadata": {},
     "output_type": "execute_result"
    }
   ],
   "source": [
    "df_schema.Question.loc['HomeRemote']"
   ]
  },
  {
   "cell_type": "code",
   "execution_count": 7,
   "id": "9a558794",
   "metadata": {},
   "outputs": [],
   "source": [
    "# Defining a function that generates a barplot for the column of interest.\n",
    "def my_count_plot(df,shema, column):\n",
    "    '''\n",
    "    Shows a bar plot\n",
    "    \n",
    "    Parameter:\n",
    "    df: input dataframe\n",
    "    column: columns of interest\n",
    "    \n",
    "    Returns:\n",
    "        NONE\n",
    "    '''\n",
    "    col_vals = df[column].fillna('#Missing Values')\n",
    "    \n",
    "    sb.countplot(y=col_vals, order=col_vals.value_counts().index).set(title=shema.Question.loc[column])\n",
    "    "
   ]
  },
  {
   "cell_type": "code",
   "execution_count": 8,
   "id": "cdf5e450",
   "metadata": {},
   "outputs": [
    {
     "data": {
      "image/png": "[encoded data removed]",
      "text/plain": [
       "<Figure size 640x480 with 1 Axes>"
      ]
     },
     "metadata": {},
     "output_type": "display_data"
    }
   ],
   "source": [
    "# Overview over missing values and counts for each answer option on time of working remotely\n",
    "my_count_plot(df,df_schema,'HomeRemote')"
   ]
  },
  {
   "cell_type": "code",
   "execution_count": 9,
   "id": "4e496181",
   "metadata": {
    "scrolled": false
   },
   "outputs": [
    {
     "data": {
      "image/png": "[encoded data removed]",
      "text/plain": [
       "<Figure size 640x480 with 1 Axes>"
      ]
     },
     "metadata": {},
     "output_type": "display_data"
    }
   ],
   "source": [
    "# Overview over missing values and counts for each answer option on company size\n",
    "my_count_plot(df,df_schema,'CompanySize')"
   ]
  },
  {
   "cell_type": "code",
   "execution_count": 10,
   "id": "96418796",
   "metadata": {},
   "outputs": [
    {
     "data": {
      "image/png": "[encoded data removed]",
      "text/plain": [
       "<Figure size 640x480 with 1 Axes>"
      ]
     },
     "metadata": {},
     "output_type": "display_data"
    }
   ],
   "source": [
    "# Overview over missing values and counts for each Job satisfaction rating\n",
    "my_count_plot(df,df_schema,'JobSatisfaction')"
   ]
  },
  {
   "cell_type": "code",
   "execution_count": 11,
   "id": "04ddd7f2",
   "metadata": {
    "scrolled": false
   },
   "outputs": [
    {
     "data": {
      "image/png": "[encoded data removed]",
      "text/plain": [
       "<Figure size 640x480 with 1 Axes>"
      ]
     },
     "metadata": {},
     "output_type": "display_data"
    }
   ],
   "source": [
    "# Overview over missing values and counts for each answer option on subjective overpayment\n",
    "my_count_plot(df,df_schema,'Overpaid')\n"
   ]
  },
  {
   "cell_type": "markdown",
   "id": "883f6f40",
   "metadata": {},
   "source": [
    "<a id='dp'></a>\n",
    "### Data Preparation"
   ]
  },
  {
   "cell_type": "code",
   "execution_count": 12,
   "id": "0dcb22af",
   "metadata": {},
   "outputs": [],
   "source": [
    "def define_remote(df):\n",
    "    '''\n",
    "    \n",
    "    Return a dataframe with remote working times seperate into <50% and >=50\n",
    "    \n",
    "    Parameters:\n",
    "    df: a raw data dataframe \n",
    "    \n",
    "    Returns:\n",
    "    df: a dataframe with a new column RemoteTimes\n",
    "    \n",
    "    '''\n",
    "    #drop missing values in column 'HomeRemote'\n",
    "    df=df[df.HomeRemote.isna()==False]\n",
    "    \n",
    "    # seperate HomeRemote in 3 sessions ('less_than_half', 'half_and_more', 'complicated' )\n",
    "    less_than_half = ['A few days each month', 'Never', 'Less than half the time, but at least one day each week']\n",
    "    \n",
    "    half_and_more = ['All or almost all the time (I\\'m full-time remote)', 'More than half, but not all, the time', 'About half the time']\n",
    "    \n",
    "    \n",
    "    df['remote_proportion'] = df['HomeRemote'].apply(lambda x: 'less than Half' if x in less_than_half else ('Half and more' if x in half_and_more else 'It\\'s complicated'))\n",
    "    \n",
    "    # create categorical columns \n",
    "    df['remote_under50']=df['remote_proportion'].apply(lambda x: True if x=='less than Half' else False)\n",
    "    df['remote_overeq50']=df['remote_proportion'].apply(lambda x: True if x=='Half and more' else False)\n",
    "    return df\n",
    "                                                                   "
   ]
  },
  {
   "cell_type": "code",
   "execution_count": 18,
   "id": "9bcff52d",
   "metadata": {},
   "outputs": [],
   "source": [
    "def define_relevant_countries(df):\n",
    "    '''\n",
    "    \n",
    "    Return a dataframe with countries with 200 and more programmers listed in dataframe\n",
    "    \n",
    "    Parameters:\n",
    "    df: a raw data dataframe \n",
    "    \n",
    "    Returns:\n",
    "    df: a new dataframe reduced to country values\n",
    "    \n",
    "    '''\n",
    "    #drop countries with less than 200 programmers listed\n",
    "    countries = (df.Country.value_counts()>=200)\n",
    "    loC = countries[countries].index\n",
    "    \n",
    "    df=df[df.Country.isin(loC)]\n",
    "    \n",
    "    return df"
   ]
  },
  {
   "cell_type": "code",
   "execution_count": 20,
   "id": "5dbf47ba",
   "metadata": {},
   "outputs": [
    {
     "data": {
      "text/html": [
       "<div>\n",
       "<style scoped>\n",
       "    .dataframe tbody tr th:only-of-type {\n",
       "        vertical-align: middle;\n",
       "    }\n",
       "\n",
       "    .dataframe tbody tr th {\n",
       "        vertical-align: top;\n",
       "    }\n",
       "\n",
       "    .dataframe thead th {\n",
       "        text-align: right;\n",
       "    }\n",
       "</style>\n",
       "<table border=\"1\" class=\"dataframe\">\n",
       "  <thead>\n",
       "    <tr style=\"text-align: right;\">\n",
       "      <th></th>\n",
       "      <th>remote_under50</th>\n",
       "      <th>remote_overeq50</th>\n",
       "    </tr>\n",
       "    <tr>\n",
       "      <th>Country</th>\n",
       "      <th></th>\n",
       "      <th></th>\n",
       "    </tr>\n",
       "  </thead>\n",
       "  <tbody>\n",
       "    <tr>\n",
       "      <th>Indonesia</th>\n",
       "      <td>0.613734</td>\n",
       "      <td>0.356223</td>\n",
       "    </tr>\n",
       "    <tr>\n",
       "      <th>Pakistan</th>\n",
       "      <td>0.626404</td>\n",
       "      <td>0.353933</td>\n",
       "    </tr>\n",
       "    <tr>\n",
       "      <th>Iran</th>\n",
       "      <td>0.632701</td>\n",
       "      <td>0.353081</td>\n",
       "    </tr>\n",
       "    <tr>\n",
       "      <th>Philippines</th>\n",
       "      <td>0.644628</td>\n",
       "      <td>0.314050</td>\n",
       "    </tr>\n",
       "    <tr>\n",
       "      <th>Russian Federation</th>\n",
       "      <td>0.673028</td>\n",
       "      <td>0.300254</td>\n",
       "    </tr>\n",
       "    <tr>\n",
       "      <th>Ukraine</th>\n",
       "      <td>0.679245</td>\n",
       "      <td>0.295597</td>\n",
       "    </tr>\n",
       "    <tr>\n",
       "      <th>Argentina</th>\n",
       "      <td>0.716895</td>\n",
       "      <td>0.251142</td>\n",
       "    </tr>\n",
       "    <tr>\n",
       "      <th>Serbia</th>\n",
       "      <td>0.732673</td>\n",
       "      <td>0.247525</td>\n",
       "    </tr>\n",
       "    <tr>\n",
       "      <th>Czech Republic</th>\n",
       "      <td>0.717808</td>\n",
       "      <td>0.243836</td>\n",
       "    </tr>\n",
       "    <tr>\n",
       "      <th>Mexico</th>\n",
       "      <td>0.736677</td>\n",
       "      <td>0.241379</td>\n",
       "    </tr>\n",
       "    <tr>\n",
       "      <th>Slovenia</th>\n",
       "      <td>0.736220</td>\n",
       "      <td>0.228346</td>\n",
       "    </tr>\n",
       "    <tr>\n",
       "      <th>Italy</th>\n",
       "      <td>0.739938</td>\n",
       "      <td>0.226006</td>\n",
       "    </tr>\n",
       "    <tr>\n",
       "      <th>Brazil</th>\n",
       "      <td>0.735683</td>\n",
       "      <td>0.224670</td>\n",
       "    </tr>\n",
       "    <tr>\n",
       "      <th>Greece</th>\n",
       "      <td>0.745690</td>\n",
       "      <td>0.219828</td>\n",
       "    </tr>\n",
       "    <tr>\n",
       "      <th>Turkey</th>\n",
       "      <td>0.732877</td>\n",
       "      <td>0.219178</td>\n",
       "    </tr>\n",
       "    <tr>\n",
       "      <th>India</th>\n",
       "      <td>0.763515</td>\n",
       "      <td>0.213384</td>\n",
       "    </tr>\n",
       "    <tr>\n",
       "      <th>Finland</th>\n",
       "      <td>0.739837</td>\n",
       "      <td>0.207317</td>\n",
       "    </tr>\n",
       "    <tr>\n",
       "      <th>United States</th>\n",
       "      <td>0.747304</td>\n",
       "      <td>0.198183</td>\n",
       "    </tr>\n",
       "    <tr>\n",
       "      <th>Bulgaria</th>\n",
       "      <td>0.748918</td>\n",
       "      <td>0.194805</td>\n",
       "    </tr>\n",
       "    <tr>\n",
       "      <th>Poland</th>\n",
       "      <td>0.775908</td>\n",
       "      <td>0.191320</td>\n",
       "    </tr>\n",
       "  </tbody>\n",
       "</table>\n",
       "</div>"
      ],
      "text/plain": [
       "                    remote_under50  remote_overeq50\n",
       "Country                                            \n",
       "Indonesia                 0.613734         0.356223\n",
       "Pakistan                  0.626404         0.353933\n",
       "Iran                      0.632701         0.353081\n",
       "Philippines               0.644628         0.314050\n",
       "Russian Federation        0.673028         0.300254\n",
       "Ukraine                   0.679245         0.295597\n",
       "Argentina                 0.716895         0.251142\n",
       "Serbia                    0.732673         0.247525\n",
       "Czech Republic            0.717808         0.243836\n",
       "Mexico                    0.736677         0.241379\n",
       "Slovenia                  0.736220         0.228346\n",
       "Italy                     0.739938         0.226006\n",
       "Brazil                    0.735683         0.224670\n",
       "Greece                    0.745690         0.219828\n",
       "Turkey                    0.732877         0.219178\n",
       "India                     0.763515         0.213384\n",
       "Finland                   0.739837         0.207317\n",
       "United States             0.747304         0.198183\n",
       "Bulgaria                  0.748918         0.194805\n",
       "Poland                    0.775908         0.191320"
      ]
     },
     "execution_count": 20,
     "metadata": {},
     "output_type": "execute_result"
    }
   ],
   "source": [
    "df_remote=define_remote(df)\n",
    "df_modC=define_relevant_countries(df_remote)\n",
    "df_country=pd.DataFrame(df_modC.groupby(['Country']).mean(),columns=['remote_under50','remote_overeq50']).sort_values('remote_overeq50', ascending=False)\n",
    "df_country.head(20)"
   ]
  },
  {
   "cell_type": "code",
   "execution_count": 21,
   "id": "84a2edc8",
   "metadata": {
    "scrolled": true
   },
   "outputs": [
    {
     "data": {
      "text/html": [
       "<div>\n",
       "<style scoped>\n",
       "    .dataframe tbody tr th:only-of-type {\n",
       "        vertical-align: middle;\n",
       "    }\n",
       "\n",
       "    .dataframe tbody tr th {\n",
       "        vertical-align: top;\n",
       "    }\n",
       "\n",
       "    .dataframe thead th {\n",
       "        text-align: right;\n",
       "    }\n",
       "</style>\n",
       "<table border=\"1\" class=\"dataframe\">\n",
       "  <thead>\n",
       "    <tr style=\"text-align: right;\">\n",
       "      <th></th>\n",
       "      <th>remote_under50</th>\n",
       "      <th>remote_overeq50</th>\n",
       "    </tr>\n",
       "    <tr>\n",
       "      <th>CompanySize</th>\n",
       "      <th></th>\n",
       "      <th></th>\n",
       "    </tr>\n",
       "  </thead>\n",
       "  <tbody>\n",
       "    <tr>\n",
       "      <th>Fewer than 10 employees</th>\n",
       "      <td>0.696818</td>\n",
       "      <td>0.265054</td>\n",
       "    </tr>\n",
       "    <tr>\n",
       "      <th>I don't know</th>\n",
       "      <td>0.766821</td>\n",
       "      <td>0.182135</td>\n",
       "    </tr>\n",
       "    <tr>\n",
       "      <th>10 to 19 employees</th>\n",
       "      <td>0.777425</td>\n",
       "      <td>0.176643</td>\n",
       "    </tr>\n",
       "    <tr>\n",
       "      <th>I prefer not to answer</th>\n",
       "      <td>0.808889</td>\n",
       "      <td>0.155556</td>\n",
       "    </tr>\n",
       "    <tr>\n",
       "      <th>20 to 99 employees</th>\n",
       "      <td>0.828728</td>\n",
       "      <td>0.123936</td>\n",
       "    </tr>\n",
       "    <tr>\n",
       "      <th>100 to 499 employees</th>\n",
       "      <td>0.845826</td>\n",
       "      <td>0.109889</td>\n",
       "    </tr>\n",
       "    <tr>\n",
       "      <th>5,000 to 9,999 employees</th>\n",
       "      <td>0.861423</td>\n",
       "      <td>0.103620</td>\n",
       "    </tr>\n",
       "    <tr>\n",
       "      <th>10,000 or more employees</th>\n",
       "      <td>0.861449</td>\n",
       "      <td>0.099418</td>\n",
       "    </tr>\n",
       "    <tr>\n",
       "      <th>1,000 to 4,999 employees</th>\n",
       "      <td>0.854868</td>\n",
       "      <td>0.097364</td>\n",
       "    </tr>\n",
       "    <tr>\n",
       "      <th>500 to 999 employees</th>\n",
       "      <td>0.857028</td>\n",
       "      <td>0.095449</td>\n",
       "    </tr>\n",
       "  </tbody>\n",
       "</table>\n",
       "</div>"
      ],
      "text/plain": [
       "                          remote_under50  remote_overeq50\n",
       "CompanySize                                              \n",
       "Fewer than 10 employees         0.696818         0.265054\n",
       "I don't know                    0.766821         0.182135\n",
       "10 to 19 employees              0.777425         0.176643\n",
       "I prefer not to answer          0.808889         0.155556\n",
       "20 to 99 employees              0.828728         0.123936\n",
       "100 to 499 employees            0.845826         0.109889\n",
       "5,000 to 9,999 employees        0.861423         0.103620\n",
       "10,000 or more employees        0.861449         0.099418\n",
       "1,000 to 4,999 employees        0.854868         0.097364\n",
       "500 to 999 employees            0.857028         0.095449"
      ]
     },
     "execution_count": 21,
     "metadata": {},
     "output_type": "execute_result"
    }
   ],
   "source": [
    "df_company=pd.DataFrame(df_remote.groupby(['CompanySize']).mean(),columns=['remote_under50','remote_overeq50']).sort_values('remote_overeq50', ascending=False)\n",
    "df_company"
   ]
  },
  {
   "cell_type": "code",
   "execution_count": 25,
   "id": "38393d99",
   "metadata": {},
   "outputs": [
    {
     "data": {
      "text/html": [
       "<div>\n",
       "<style scoped>\n",
       "    .dataframe tbody tr th:only-of-type {\n",
       "        vertical-align: middle;\n",
       "    }\n",
       "\n",
       "    .dataframe tbody tr th {\n",
       "        vertical-align: top;\n",
       "    }\n",
       "\n",
       "    .dataframe thead th {\n",
       "        text-align: right;\n",
       "    }\n",
       "</style>\n",
       "<table border=\"1\" class=\"dataframe\">\n",
       "  <thead>\n",
       "    <tr style=\"text-align: right;\">\n",
       "      <th></th>\n",
       "      <th>JobSatisfaction</th>\n",
       "      <th>CareerSatisfaction</th>\n",
       "    </tr>\n",
       "    <tr>\n",
       "      <th>remote_proportion</th>\n",
       "      <th></th>\n",
       "      <th></th>\n",
       "    </tr>\n",
       "  </thead>\n",
       "  <tbody>\n",
       "    <tr>\n",
       "      <th>Half and more</th>\n",
       "      <td>7.212068</td>\n",
       "      <td>7.552201</td>\n",
       "    </tr>\n",
       "    <tr>\n",
       "      <th>less than Half</th>\n",
       "      <td>6.902825</td>\n",
       "      <td>7.329328</td>\n",
       "    </tr>\n",
       "    <tr>\n",
       "      <th>It's complicated</th>\n",
       "      <td>6.840830</td>\n",
       "      <td>7.289413</td>\n",
       "    </tr>\n",
       "  </tbody>\n",
       "</table>\n",
       "</div>"
      ],
      "text/plain": [
       "                   JobSatisfaction  CareerSatisfaction\n",
       "remote_proportion                                     \n",
       "Half and more             7.212068            7.552201\n",
       "less than Half            6.902825            7.329328\n",
       "It's complicated          6.840830            7.289413"
      ]
     },
     "execution_count": 25,
     "metadata": {},
     "output_type": "execute_result"
    }
   ],
   "source": [
    "df_satisfied=pd.DataFrame(df_remote.groupby(['remote_proportion']).mean(),columns=['JobSatisfaction','CareerSatisfaction']).sort_values('JobSatisfaction', ascending=False)\n",
    "df_satisfied"
   ]
  },
  {
   "cell_type": "code",
   "execution_count": 28,
   "id": "72fcb2fc",
   "metadata": {
    "scrolled": true
   },
   "outputs": [
    {
     "data": {
      "text/html": [
       "<div>\n",
       "<style scoped>\n",
       "    .dataframe tbody tr th:only-of-type {\n",
       "        vertical-align: middle;\n",
       "    }\n",
       "\n",
       "    .dataframe tbody tr th {\n",
       "        vertical-align: top;\n",
       "    }\n",
       "\n",
       "    .dataframe thead th {\n",
       "        text-align: right;\n",
       "    }\n",
       "</style>\n",
       "<table border=\"1\" class=\"dataframe\">\n",
       "  <thead>\n",
       "    <tr style=\"text-align: right;\">\n",
       "      <th></th>\n",
       "      <th>Salary</th>\n",
       "      <th>ExpectedSalary</th>\n",
       "    </tr>\n",
       "    <tr>\n",
       "      <th>remote_proportion</th>\n",
       "      <th></th>\n",
       "      <th></th>\n",
       "    </tr>\n",
       "  </thead>\n",
       "  <tbody>\n",
       "    <tr>\n",
       "      <th>Half and more</th>\n",
       "      <td>66214.622796</td>\n",
       "      <td>35323.461254</td>\n",
       "    </tr>\n",
       "    <tr>\n",
       "      <th>It's complicated</th>\n",
       "      <td>55742.095768</td>\n",
       "      <td>38007.414166</td>\n",
       "    </tr>\n",
       "    <tr>\n",
       "      <th>less than Half</th>\n",
       "      <td>54871.518153</td>\n",
       "      <td>35392.901723</td>\n",
       "    </tr>\n",
       "  </tbody>\n",
       "</table>\n",
       "</div>"
      ],
      "text/plain": [
       "                         Salary  ExpectedSalary\n",
       "remote_proportion                              \n",
       "Half and more      66214.622796    35323.461254\n",
       "It's complicated   55742.095768    38007.414166\n",
       "less than Half     54871.518153    35392.901723"
      ]
     },
     "execution_count": 28,
     "metadata": {},
     "output_type": "execute_result"
    }
   ],
   "source": [
    "df_salary=pd.DataFrame(df_remote.groupby(['remote_proportion']).mean(),columns=['Salary','ExpectedSalary']).sort_values('Salary', ascending=False)\n",
    "df_salary"
   ]
  },
  {
   "cell_type": "markdown",
   "id": "6b5802b5",
   "metadata": {},
   "source": [
    "<a id='dm'></a>\n",
    "### Data Modeling"
   ]
  },
  {
   "cell_type": "markdown",
   "id": "b453a0f4",
   "metadata": {},
   "source": [
    "<a id='re'></a>\n",
    "### Result Evaluation"
   ]
  },
  {
   "cell_type": "markdown",
   "id": "a8a86b8f",
   "metadata": {},
   "source": [
    "<a id='dep'></a>\n",
    "### Deployment"
   ]
  },
  {
   "cell_type": "code",
   "execution_count": null,
   "id": "c9012545",
   "metadata": {},
   "outputs": [],
   "source": []
  }
 ],
 "metadata": {
  "kernelspec": {
   "display_name": "Python 3 (ipykernel)",
   "language": "python",
   "name": "python3"
  },
  "language_info": {
   "codemirror_mode": {
    "name": "ipython",
    "version": 3
   },
   "file_extension": ".py",
   "mimetype": "text/x-python",
   "name": "python",
   "nbconvert_exporter": "python",
   "pygments_lexer": "ipython3",
   "version": "3.9.13"
  }
 },
 "nbformat": 4,
 "nbformat_minor": 5
}
